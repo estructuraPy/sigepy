{
 "cells": [
  {
   "cell_type": "markdown",
   "metadata": {},
   "source": [
    "## Autoreload"
   ]
  },
  {
   "cell_type": "code",
   "execution_count": 1,
   "metadata": {},
   "outputs": [],
   "source": [
    "%reload_ext autoreload\n",
    "%autoreload 2"
   ]
  },
  {
   "cell_type": "markdown",
   "metadata": {},
   "source": [
    "## Libraries"
   ]
  },
  {
   "cell_type": "code",
   "execution_count": null,
   "metadata": {},
   "outputs": [],
   "source": [
    "import pandas as pd\n",
    "import pathlib\n",
    "import matplotlib.pyplot as plt\n",
    "from IPython.display import display\n",
    "from signalepy import settings, fourier, wavelet, ssi_cov, plot, plot_ly, utils\n",
    "from collections import OrderedDict\n",
    "from typing import Tuple,Dict, Union, List\n",
    "from dataclasses import dataclass, field\n",
    "from tqdm import tqdm\n",
    "import gc"
   ]
  },
  {
   "cell_type": "markdown",
   "metadata": {},
   "source": [
    "## Parameters"
   ]
  },
  {
   "cell_type": "markdown",
   "metadata": {},
   "source": [
    "### Accceleration data"
   ]
  },
  {
   "cell_type": "markdown",
   "metadata": {},
   "source": [
    "**File name and location**"
   ]
  },
  {
   "cell_type": "code",
   "execution_count": 3,
   "metadata": {},
   "outputs": [],
   "source": [
    "file_name = 'cable_acceleration.txt'\n",
    "file_location = utils.get_tests_files_location(file_name)"
   ]
  },
  {
   "cell_type": "markdown",
   "metadata": {},
   "source": [
    "\n",
    "**Import acceleration data**"
   ]
  },
  {
   "cell_type": "code",
   "execution_count": 4,
   "metadata": {},
   "outputs": [],
   "source": [
    "# Column names of the data\n",
    "labels = [\"X\", \"Y\", \"Z\"] # + Acceleration\n",
    "labels_corrected = [\"X Corrected\", \"Y Corrected\", \"Z Corrected\"] # + Acceleration\n",
    "label = labels[2]\n",
    "labels_filtered = [\"X Filtered\", \"Y Filtered\", \"Z Filtered\"] # + Acceleration\n",
    "label_filtered = labels_filtered[2]\n",
    "\n",
    "# Butterworth filter parameters\n",
    "lowcut = 0.3  # Lower cutoff frequency (Hz)\n",
    "highcut = 20  # Upper cutoff frequency (Hz)\n",
    "order = 3  # Filter order\n",
    "\n",
    "# FFT filtering\n",
    "threshold = 20  # Threshold for filtering the FFT, as percentage of the maximum value\n",
    "\n",
    "# time window for the data\n",
    "start_time = 0\n",
    "power_of_two = 12\n",
    "\n",
    "# FFT normalization\n",
    "magnitude_type = 'calculated'  # 'normalized' or 'calculated'\n",
    "magnitude_factor = 10  # Factor for the magnitude normalization\n",
    "\n",
    "# Files\n",
    "file_name = 'cable_acceleration.txt'\n",
    "file_location = utils.get_tests_files_location(file_name)"
   ]
  },
  {
   "cell_type": "code",
   "execution_count": 5,
   "metadata": {},
   "outputs": [],
   "source": [
    "df_original = utils.import_sts_acceleration_txt(file_location, labels) # Import data for wavelets and fft analysis"
   ]
  },
  {
   "cell_type": "code",
   "execution_count": 6,
   "metadata": {},
   "outputs": [],
   "source": [
    "df_ready = utils.SignalProcessor(df_original, labels, lowcut, highcut, order, start_time, power_of_two).execute_preparing_signal()"
   ]
  },
  {
   "cell_type": "code",
   "execution_count": 7,
   "metadata": {},
   "outputs": [
    {
     "name": "stdout",
     "output_type": "stream",
     "text": []
    }
   ],
   "source": [
    "n = utils.estimate_power_of_two(df_original) # maximun exponent for the number of samples recomended for the fft\n",
    "print(f'n = {n}')"
   ]
  },
  {
   "cell_type": "code",
   "execution_count": 8,
   "metadata": {},
   "outputs": [
    {
     "name": "stdout",
     "output_type": "stream",
     "text": []
    }
   ],
   "source": [
    "utils.plot_acceleration(df_ready, labels[0], color='black') # 0 for 'X', 1 for 'Y', 2 for 'Z'"
   ]
  },
  {
   "cell_type": "code",
   "execution_count": 9,
   "metadata": {},
   "outputs": [
    {
     "name": "stdout",
     "output_type": "stream",
     "text": []
    }
   ],
   "source": [
    "utils.plotly_acceleration(df_ready, labels[0], color='black') # 0 for 'X', 1 for 'Y', 2 for 'Z'"
   ]
  },
  {
   "cell_type": "markdown",
   "metadata": {},
   "source": [
    "## FFT analysis"
   ]
  },
  {
   "cell_type": "code",
   "execution_count": 10,
   "metadata": {},
   "outputs": [],
   "source": [
    "df_fft= fourier.calculate_fft(df_ready, labels)"
   ]
  },
  {
   "cell_type": "code",
   "execution_count": 11,
   "metadata": {},
   "outputs": [
    {
     "name": "stdout",
     "output_type": "stream",
     "text": []
    }
   ],
   "source": [
    "fourier.plot_fft_results(df_fft, label, 'k')"
   ]
  },
  {
   "cell_type": "code",
   "execution_count": 12,
   "metadata": {},
   "outputs": [
    {
     "name": "stdout",
     "output_type": "stream",
     "text": []
    }
   ],
   "source": [
    "fourier.plotly_fft_results(df_fft, label, 'black')"
   ]
  },
  {
   "cell_type": "code",
   "execution_count": 13,
   "metadata": {},
   "outputs": [],
   "source": [
    "df_filtered = fourier.filter_with_fft(df=df_ready, labels=labels, threshold=threshold)"
   ]
  },
  {
   "cell_type": "code",
   "execution_count": 14,
   "metadata": {},
   "outputs": [],
   "source": [
    "df_fft_filtered = fourier.calculate_fft(df_filtered, labels_filtered, magnitude_type, magnitude_factor)"
   ]
  },
  {
   "cell_type": "code",
   "execution_count": 15,
   "metadata": {},
   "outputs": [
    {
     "name": "stdout",
     "output_type": "stream",
     "text": []
    }
   ],
   "source": [
    "fourier.plot_fft_results(df_fft_filtered, label_filtered, 'k')"
   ]
  },
  {
   "cell_type": "code",
   "execution_count": 16,
   "metadata": {},
   "outputs": [
    {
     "name": "stdout",
     "output_type": "stream",
     "text": []
    }
   ],
   "source": [
    "fourier.plotly_fft_results(df_fft_filtered, label_filtered, 'black')"
   ]
  },
  {
   "cell_type": "code",
   "execution_count": 17,
   "metadata": {},
   "outputs": [
    {
     "name": "stdout",
     "output_type": "stream",
     "text": []
    }
   ],
   "source": [
    "fourier.plot_normalized_fft_results(df_fft_filtered, label_filtered,'black')"
   ]
  },
  {
   "cell_type": "code",
   "execution_count": 18,
   "metadata": {},
   "outputs": [
    {
     "name": "stdout",
     "output_type": "stream",
     "text": []
    }
   ],
   "source": [
    "fourier.plotly_normalized_fft_results(df_fft_filtered, label_filtered,'black')"
   ]
  },
  {
   "cell_type": "code",
   "execution_count": 19,
   "metadata": {},
   "outputs": [
    {
     "name": "stdout",
     "output_type": "stream",
     "text": []
    }
   ],
   "source": [
    "utils.plot_acceleration(df_ready, label)"
   ]
  },
  {
   "cell_type": "code",
   "execution_count": 20,
   "metadata": {},
   "outputs": [
    {
     "name": "stdout",
     "output_type": "stream",
     "text": []
    }
   ],
   "source": [
    "utils.plotly_acceleration(df_ready, label)"
   ]
  },
  {
   "cell_type": "code",
   "execution_count": 21,
   "metadata": {},
   "outputs": [
    {
     "name": "stdout",
     "output_type": "stream",
     "text": []
    }
   ],
   "source": [
    "fourier.plot_peaks(df_fft_filtered, label_filtered, log_scale=True)"
   ]
  },
  {
   "cell_type": "code",
   "execution_count": 22,
   "metadata": {},
   "outputs": [
    {
     "name": "stdout",
     "output_type": "stream",
     "text": []
    }
   ],
   "source": [
    "fourier.plotly_peaks(df_fft_filtered, label_filtered, log_scale=True)"
   ]
  },
  {
   "cell_type": "code",
   "execution_count": 23,
   "metadata": {},
   "outputs": [
    {
     "name": "stdout",
     "output_type": "stream",
     "text": []
    }
   ],
   "source": [
    "fourier.plot_fft_results_period_domain(df_fft_filtered, label_filtered, color='blue', log_scale=True)"
   ]
  },
  {
   "cell_type": "code",
   "execution_count": 24,
   "metadata": {},
   "outputs": [
    {
     "name": "stdout",
     "output_type": "stream",
     "text": []
    }
   ],
   "source": [
    "fourier.plotly_fft_results_period_domain(df_fft_filtered, label_filtered, color='blue', log_scale=True)"
   ]
  }
 ],
 "metadata": {
  "kernelspec": {
   "display_name": "epy",
   "language": "python",
   "name": "python3"
  },
  "language_info": {
   "codemirror_mode": {
    "name": "ipython",
    "version": 3
   },
   "file_extension": ".py",
   "mimetype": "text/x-python",
   "name": "python",
   "nbconvert_exporter": "python",
   "pygments_lexer": "ipython3",
   "version": "3.12.8"
  }
 },
 "nbformat": 4,
 "nbformat_minor": 4
}
