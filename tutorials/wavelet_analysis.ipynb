{
 "cells": [
  {
   "cell_type": "markdown",
   "metadata": {},
   "source": [
    "## Autoreload"
   ]
  },
  {
   "cell_type": "code",
   "execution_count": 1,
   "metadata": {},
   "outputs": [],
   "source": [
    "%reload_ext autoreload\n",
    "%autoreload 2"
   ]
  },
  {
   "cell_type": "markdown",
   "metadata": {},
   "source": [
    "## Libraries"
   ]
  },
  {
   "cell_type": "code",
   "execution_count": 2,
   "metadata": {},
   "outputs": [
    {
     "ename": "ModuleNotFoundError",
     "evalue": "No module named 'sigepy'",
     "output_type": "error",
     "traceback": [
      "\u001b[1;31m---------------------------------------------------------------------------\u001b[0m",
      "\u001b[1;31mModuleNotFoundError\u001b[0m                       Traceback (most recent call last)",
      "Cell \u001b[1;32mIn[2], line 4\u001b[0m\n\u001b[0;32m      2\u001b[0m \u001b[38;5;28;01mimport\u001b[39;00m\u001b[38;5;250m \u001b[39m\u001b[38;5;21;01mpathlib\u001b[39;00m\n\u001b[0;32m      3\u001b[0m \u001b[38;5;28;01mfrom\u001b[39;00m\u001b[38;5;250m \u001b[39m\u001b[38;5;21;01mIPython\u001b[39;00m\u001b[38;5;21;01m.\u001b[39;00m\u001b[38;5;21;01mdisplay\u001b[39;00m\u001b[38;5;250m \u001b[39m\u001b[38;5;28;01mimport\u001b[39;00m display\n\u001b[1;32m----> 4\u001b[0m \u001b[38;5;28;01mfrom\u001b[39;00m\u001b[38;5;250m \u001b[39m\u001b[38;5;21;01msigepy\u001b[39;00m\u001b[38;5;250m \u001b[39m\u001b[38;5;28;01mimport\u001b[39;00m utils, fourier, wavelet\n\u001b[0;32m      5\u001b[0m \u001b[38;5;28;01mfrom\u001b[39;00m\u001b[38;5;250m \u001b[39m\u001b[38;5;21;01mdataclasses\u001b[39;00m\u001b[38;5;250m \u001b[39m\u001b[38;5;28;01mimport\u001b[39;00m dataclass, field\n\u001b[0;32m      6\u001b[0m \u001b[38;5;28;01mfrom\u001b[39;00m\u001b[38;5;250m \u001b[39m\u001b[38;5;21;01mtqdm\u001b[39;00m\u001b[38;5;250m \u001b[39m\u001b[38;5;28;01mimport\u001b[39;00m tqdm\n",
      "\u001b[1;31mModuleNotFoundError\u001b[0m: No module named 'sigepy'"
     ]
    }
   ],
   "source": [
    "import pandas as pd\n",
    "import pathlib\n",
    "from IPython.display import display\n",
    "from sigepy import utils, fourier, wavelet\n",
    "from dataclasses import dataclass, field\n",
    "from tqdm import tqdm\n",
    "import gc"
   ]
  },
  {
   "cell_type": "markdown",
   "metadata": {},
   "source": [
    "## Parameters"
   ]
  },
  {
   "cell_type": "markdown",
   "metadata": {},
   "source": [
    "### Accceleration data"
   ]
  },
  {
   "cell_type": "markdown",
   "metadata": {},
   "source": [
    "**File name and location**"
   ]
  },
  {
   "cell_type": "code",
   "execution_count": null,
   "metadata": {},
   "outputs": [],
   "source": [
    "file_name = 'cable_acceleration.txt'\n",
    "file_location = utils.get_tests_files_location(file_name)"
   ]
  },
  {
   "cell_type": "markdown",
   "metadata": {},
   "source": [
    "\n",
    "**Import acceleration data**"
   ]
  },
  {
   "cell_type": "code",
   "execution_count": null,
   "metadata": {},
   "outputs": [],
   "source": [
    "# Column names of the data\n",
    "labels = [\"X\", \"Y\", \"Z\"] # + Acceleration\n",
    "labels_corrected = [\"X Corrected\", \"Y Corrected\", \"Z Corrected\"] # + Acceleration\n",
    "label = labels[2]\n",
    "labels_filtered = [\"X Filtered\", \"Y Filtered\", \"Z Filtered\"] # + Acceleration\n",
    "label_filtered = labels_filtered[2]\n",
    "\n",
    "# Butterworth filter parameters\n",
    "lowcut = 0.3  # Lower cutoff frequency (Hz)\n",
    "highcut = 30  # Upper cutoff frequency (Hz)\n",
    "order = 3  # Filter order\n",
    "\n",
    "# FFT filtering\n",
    "threshold = 5  # Threshold for filtering the FFT, as percentage of the maximum value\n",
    "\n",
    "# time window for the data\n",
    "start_time = 0\n",
    "power_of_two = 15\n",
    "\n",
    "# FFT normalization\n",
    "magnitude_type = 'calculated'  # 'normalized' or 'calculated'\n",
    "magnitude_factor = 10  # Factor for the magnitude normalization\n",
    "\n",
    "# Files\n",
    "file_name = 'cable_acceleration.txt'\n",
    "file_location = utils.get_tests_files_location(file_name)\n",
    "\n",
    "# Wavelet parameters\n",
    "wavelet_function ='morl'"
   ]
  },
  {
   "cell_type": "code",
   "execution_count": null,
   "metadata": {},
   "outputs": [],
   "source": [
    "df_original = utils.import_sts_acceleration_txt(file_location, labels) # Import data for wavelets and fft analysis"
   ]
  },
  {
   "cell_type": "code",
   "execution_count": null,
   "metadata": {},
   "outputs": [],
   "source": [
    "max_power_of_two = utils.estimate_power_of_two(df_original) # maximun exponent for the number of samples recomended for the fft\n",
    "print(f'n = {max_power_of_two}')"
   ]
  },
  {
   "cell_type": "code",
   "execution_count": null,
   "metadata": {},
   "outputs": [],
   "source": [
    "df_ready = utils.SignalProcessor(df_original, labels, lowcut, highcut, order, start_time, power_of_two).execute_preparing_signal()"
   ]
  },
  {
   "cell_type": "code",
   "execution_count": null,
   "metadata": {},
   "outputs": [],
   "source": [
    "utils.plotly_acceleration(df_ready, label, color='black')"
   ]
  },
  {
   "cell_type": "code",
   "execution_count": null,
   "metadata": {},
   "outputs": [],
   "source": [
    "df_filtered = fourier.filter_with_fft(df=df_ready, labels=labels, threshold=threshold)"
   ]
  },
  {
   "cell_type": "code",
   "execution_count": null,
   "metadata": {},
   "outputs": [],
   "source": [
    "utils.plotly_acceleration(df_filtered, label, color='black')"
   ]
  },
  {
   "cell_type": "code",
   "execution_count": null,
   "metadata": {},
   "outputs": [],
   "source": [
    "df_fft= fourier.calculate_fft(df_filtered, labels_filtered)"
   ]
  },
  {
   "cell_type": "code",
   "execution_count": null,
   "metadata": {},
   "outputs": [],
   "source": [
    "fourier.plot_fft_results(df_fft, label_filtered, 'k')"
   ]
  },
  {
   "cell_type": "code",
   "execution_count": null,
   "metadata": {},
   "outputs": [],
   "source": [
    "fourier.plotly_fft_results(df_fft, label_filtered, 'black')"
   ]
  },
  {
   "cell_type": "code",
   "execution_count": null,
   "metadata": {},
   "outputs": [],
   "source": [
    "fourier.plot_normalized_fft_results(df_fft, label_filtered,'black')"
   ]
  },
  {
   "cell_type": "code",
   "execution_count": null,
   "metadata": {},
   "outputs": [],
   "source": [
    "fourier.plotly_normalized_fft_results(df_fft, label_filtered,'black')"
   ]
  },
  {
   "cell_type": "code",
   "execution_count": null,
   "metadata": {},
   "outputs": [],
   "source": [
    "spectrum, frequencies = wavelet.calculate_cwt(df_filtered, label_filtered, wavelet_function, lowcut, highcut)"
   ]
  },
  {
   "cell_type": "code",
   "execution_count": null,
   "metadata": {},
   "outputs": [],
   "source": [
    "gif_name = \"wavelet_spectrum.gif\"\n",
    "file_location_gif = utils.get_results_files_location(gif_name)"
   ]
  },
  {
   "cell_type": "code",
   "execution_count": null,
   "metadata": {},
   "outputs": [],
   "source": [
    "wavelet.spectrum(df_filtered, label_filtered, wavelet_function, lowcut, highcut, save_gif=True, file_location=file_location_gif, magnitude_type=magnitude_type, magnitude_factor=magnitude_factor)"
   ]
  },
  {
   "cell_type": "code",
   "execution_count": null,
   "metadata": {},
   "outputs": [],
   "source": [
    "wavelet.plot_spectrum_views(df_filtered, spectrum, frequencies, label)"
   ]
  },
  {
   "cell_type": "code",
   "execution_count": null,
   "metadata": {},
   "outputs": [],
   "source": [
    "wavelet.plotly_spectrum_views(df_filtered, spectrum, frequencies, label)"
   ]
  },
  {
   "cell_type": "code",
   "execution_count": null,
   "metadata": {},
   "outputs": [],
   "source": [
    "wavelet.plot_spectrum_time_frequency(df_filtered, spectrum, frequencies, label)"
   ]
  },
  {
   "cell_type": "code",
   "execution_count": null,
   "metadata": {},
   "outputs": [],
   "source": [
    "wavelet.plotly_spectrum_time_frequency(df_filtered, spectrum, frequencies, label)"
   ]
  },
  {
   "cell_type": "code",
   "execution_count": null,
   "metadata": {},
   "outputs": [],
   "source": [
    "wavelet.plot_spectrum_time_magnitude(df_filtered, spectrum, frequencies, label)"
   ]
  },
  {
   "cell_type": "code",
   "execution_count": null,
   "metadata": {},
   "outputs": [],
   "source": [
    "wavelet.plotly_spectrum_time_magnitude(df_filtered, spectrum, frequencies, label)"
   ]
  }
 ],
 "metadata": {
  "kernelspec": {
   "display_name": "Python 3 (epy)",
   "language": "python",
   "name": "epy"
  },
  "language_info": {
   "codemirror_mode": {
    "name": "ipython",
    "version": 3
   },
   "file_extension": ".py",
   "mimetype": "text/x-python",
   "name": "python",
   "nbconvert_exporter": "python",
   "pygments_lexer": "ipython3",
   "version": "3.12.8"
  }
 },
 "nbformat": 4,
 "nbformat_minor": 4
}
