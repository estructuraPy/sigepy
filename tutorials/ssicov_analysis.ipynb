{
 "cells": [
  {
   "cell_type": "markdown",
   "metadata": {},
   "source": [
    "## Autoreload"
   ]
  },
  {
   "cell_type": "code",
   "execution_count": 1,
   "metadata": {},
   "outputs": [],
   "source": [
    "%reload_ext autoreload\n",
    "%autoreload 2"
   ]
  },
  {
   "cell_type": "markdown",
   "metadata": {},
   "source": [
    "## Libraries"
   ]
  },
  {
   "cell_type": "code",
   "execution_count": 2,
   "metadata": {},
   "outputs": [
    {
     "ename": "ModuleNotFoundError",
     "evalue": "No module named 'sigepy'",
     "output_type": "error",
     "traceback": [
      "\u001b[1;31m---------------------------------------------------------------------------\u001b[0m",
      "\u001b[1;31mModuleNotFoundError\u001b[0m                       Traceback (most recent call last)",
      "Cell \u001b[1;32mIn[2], line 3\u001b[0m\n\u001b[0;32m      1\u001b[0m \u001b[38;5;66;03m# %pip install IPython\u001b[39;00m\n\u001b[0;32m      2\u001b[0m \u001b[38;5;28;01mfrom\u001b[39;00m\u001b[38;5;250m \u001b[39m\u001b[38;5;21;01mIPython\u001b[39;00m\u001b[38;5;21;01m.\u001b[39;00m\u001b[38;5;21;01mdisplay\u001b[39;00m\u001b[38;5;250m \u001b[39m\u001b[38;5;28;01mimport\u001b[39;00m display\n\u001b[1;32m----> 3\u001b[0m \u001b[38;5;28;01mfrom\u001b[39;00m\u001b[38;5;250m \u001b[39m\u001b[38;5;21;01msigepy\u001b[39;00m\u001b[38;5;250m \u001b[39m\u001b[38;5;28;01mimport\u001b[39;00m utils, ssi_cov\n",
      "\u001b[1;31mModuleNotFoundError\u001b[0m: No module named 'sigepy'"
     ]
    }
   ],
   "source": [
    "# %pip install IPython\n",
    "from IPython.display import display\n",
    "from sigepy import utils, ssi_cov"
   ]
  },
  {
   "cell_type": "markdown",
   "metadata": {},
   "source": [
    "## Parameters"
   ]
  },
  {
   "cell_type": "code",
   "execution_count": null,
   "metadata": {},
   "outputs": [],
   "source": [
    "# Column names of the data\n",
    "labels = [\"X\", \"Y\", \"Z\"] # + Acceleration\n",
    "#labels_corrected = [\"X Corrected\", \"Y Corrected\", \"Z Corrected\"] # + Acceleration\n",
    "\n",
    "# Butterworth filter parameters\n",
    "lowcut = 0.3  # Lower cutoff frequency (Hz)\n",
    "highcut = 30  # Upper cutoff frequency (Hz)\n",
    "order = 2  # Filter order\n",
    "\n",
    "# time window for the data\n",
    "start_time = 0\n",
    "power_of_two = 10\n",
    "\n",
    "# Files\n",
    "file_name = 'acceleration.csv'\n",
    "file_location = utils.get_tests_files_location(file_name)\n",
    "\n",
    "min_model_order = 3\n",
    "max_model_order = 30"
   ]
  },
  {
   "cell_type": "markdown",
   "metadata": {},
   "source": [
    "\n",
    "**Import acceleration data**"
   ]
  },
  {
   "cell_type": "code",
   "execution_count": null,
   "metadata": {},
   "outputs": [],
   "source": [
    "df_original = utils.import_csv_acceleration(file_location, labels) # Import data for wavelets and fft analysis"
   ]
  },
  {
   "cell_type": "code",
   "execution_count": null,
   "metadata": {},
   "outputs": [],
   "source": [
    "df_original"
   ]
  },
  {
   "cell_type": "markdown",
   "metadata": {},
   "source": [
    "# Column names of the data\n",
    "labels = [\"X\", \"Y\", \"Z\"] # + Acceleration\n",
    "#labels_corrected = [\"X Corrected\", \"Y Corrected\", \"Z Corrected\"] # + Acceleration\n",
    "\n",
    "# Butterworth filter parameters\n",
    "lowcut = 0.3  # Lower cutoff frequency (Hz)\n",
    "highcut = 30  # Upper cutoff frequency (Hz)\n",
    "order = 2  # Filter order\n",
    "\n",
    "# time window for the data\n",
    "start_time = 0\n",
    "power_of_two = 10\n",
    "\n",
    "# Files\n",
    "file_name = 'cable_acceleration.txt'\n",
    "file_location = utils.get_tests_files_location(file_name)\n",
    "\n",
    "min_model_order = 3\n",
    "max_model_order = 30"
   ]
  },
  {
   "cell_type": "markdown",
   "metadata": {},
   "source": [
    "df_original = utils.import_sts_acceleration_txt(file_location, labels) # Import data for wavelets and fft analysis"
   ]
  },
  {
   "cell_type": "markdown",
   "metadata": {},
   "source": [
    "df_original"
   ]
  },
  {
   "cell_type": "code",
   "execution_count": null,
   "metadata": {},
   "outputs": [],
   "source": [
    "df_ready = utils.SignalProcessor(df_original, labels, lowcut, highcut, order, start_time, power_of_two).execute_preparing_signal()"
   ]
  },
  {
   "cell_type": "code",
   "execution_count": null,
   "metadata": {},
   "outputs": [],
   "source": [
    "utils.plot_acceleration(df_ready, labels[0], color='k') # 0 for 'X', 1 for 'Y', 2 for 'Z'"
   ]
  },
  {
   "cell_type": "code",
   "execution_count": null,
   "metadata": {},
   "outputs": [],
   "source": [
    "max_power_of_two = utils.estimate_power_of_two(df_original) # maximun exponent for the number of samples recomended for the fft\n",
    "print(f'n = {max_power_of_two}')"
   ]
  },
  {
   "cell_type": "code",
   "execution_count": null,
   "metadata": {},
   "outputs": [],
   "source": [
    "signal_object = utils.SignalProcessor(df_original, labels, lowcut, highcut, order, start_time, power_of_two)"
   ]
  },
  {
   "cell_type": "code",
   "execution_count": null,
   "metadata": {},
   "outputs": [],
   "source": [
    "df_windowed = signal_object.filter_time_window()"
   ]
  },
  {
   "cell_type": "code",
   "execution_count": null,
   "metadata": {},
   "outputs": [],
   "source": [
    "utils.plot_acceleration(df_windowed, labels[0], color='k') # 0 for 'X', 1 for 'Y', 2 for 'Z'"
   ]
  },
  {
   "cell_type": "code",
   "execution_count": null,
   "metadata": {},
   "outputs": [],
   "source": [
    "ssicov = ssi_cov.SSICov(df_windowed, labels, min_model_order, max_model_order)"
   ]
  },
  {
   "cell_type": "code",
   "execution_count": null,
   "metadata": {},
   "outputs": [],
   "source": [
    "stable_frequencies, stable_damping_ratios, stable_mode_shapes, stable_MAC_values, stability_statuses, natural_frequencies = ssicov.execute_ssicov_analysis()"
   ]
  },
  {
   "cell_type": "code",
   "execution_count": null,
   "metadata": {},
   "outputs": [],
   "source": [
    "ssicov.plot_stability_diagram()"
   ]
  },
  {
   "cell_type": "code",
   "execution_count": null,
   "metadata": {},
   "outputs": [],
   "source": [
    "ssicov.plotly_stability_diagram()"
   ]
  },
  {
   "cell_type": "code",
   "execution_count": null,
   "metadata": {},
   "outputs": [],
   "source": []
  },
  {
   "cell_type": "code",
   "execution_count": null,
   "metadata": {},
   "outputs": [],
   "source": []
  },
  {
   "cell_type": "code",
   "execution_count": null,
   "metadata": {},
   "outputs": [],
   "source": []
  },
  {
   "cell_type": "code",
   "execution_count": null,
   "metadata": {},
   "outputs": [],
   "source": []
  }
 ],
 "metadata": {
  "kernelspec": {
   "display_name": "Python 3 (epy)",
   "language": "python",
   "name": "epy"
  },
  "language_info": {
   "codemirror_mode": {
    "name": "ipython",
    "version": 3
   },
   "file_extension": ".py",
   "mimetype": "text/x-python",
   "name": "python",
   "nbconvert_exporter": "python",
   "pygments_lexer": "ipython3",
   "version": "3.12.8"
  }
 },
 "nbformat": 4,
 "nbformat_minor": 4
}
