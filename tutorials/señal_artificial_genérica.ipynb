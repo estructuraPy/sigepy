{
 "cells": [
  {
   "cell_type": "markdown",
   "metadata": {},
   "source": [
    "## Autoreload"
   ]
  },
  {
   "cell_type": "code",
   "execution_count": null,
   "metadata": {},
   "outputs": [],
   "source": [
    "%load_ext autoreload\n",
    "%autoreload 2"
   ]
  },
  {
   "cell_type": "markdown",
   "metadata": {},
   "source": [
    "## Libraries"
   ]
  },
  {
   "cell_type": "code",
   "execution_count": null,
   "metadata": {},
   "outputs": [],
   "source": [
    "import pandas as pd\n",
    "import pathlib\n",
    "import matplotlib.pyplot as plt\n",
    "from scipy import signal\n",
    "from scipy.fft import fft, ifft, fftfreq\n",
    "from scipy.signal import detrend, butter, filtfilt\n",
    "import ipywidgets as widgets\n",
    "from IPython.display import display\n",
    "from sigepy import utils, fourier, wavelet, ssi_cov\n",
    "import numpy as np\n",
    "import matplotlib.pyplot as plt \n",
    "import json\n",
    "import os"
   ]
  },
  {
   "cell_type": "markdown",
   "metadata": {},
   "source": [
    "## Parameters"
   ]
  },
  {
   "cell_type": "markdown",
   "metadata": {},
   "source": [
    "### Accceleration data"
   ]
  },
  {
   "cell_type": "code",
   "execution_count": null,
   "metadata": {},
   "outputs": [],
   "source": [
    "# Column names of the data\n",
    "labels = [\"X\", \"Y\", \"Z\"] # + Acceleration\n",
    "labels_corrected = [\"X Corrected\", \"Y Corrected\", \"Z Corrected\"] # + Acceleration\n",
    "label = labels[0]\n",
    "labels_filtered = [\"X Filtered\", \"Y Filtered\", \"Z Filtered\"] # + Acceleration\n",
    "label_filtered = labels_filtered[0]\n",
    "\n",
    "# Butterworth filter parameters\n",
    "lowcut = 0.3  # Lower cutoff frequency (Hz)\n",
    "highcut = 30  # Upper cutoff frequency (Hz)\n",
    "order = 3  # Filter order\n",
    "\n",
    "# FFT filtering\n",
    "threshold = 20  # Threshold for filtering the FFT, as percentage of the maximum value\n",
    "\n",
    "# time window for the data\n",
    "start_time = 0\n",
    "power_of_two = 10\n",
    "\n",
    "# FFT normalization\n",
    "magnitude_type = 'calculated'  # 'normalized' or 'calculated'\n",
    "magnitude_factor = 10  # Factor for the magnitude normalization\n",
    "\n",
    "# Files\n",
    "file_name = 'cable_acceleration.txt'\n",
    "file_location = utils.get_tests_files_location(file_name)\n",
    "\n",
    "# Wavelet parameters\n",
    "wavelet_function ='morl'\n",
    "\n",
    "# SSI-COV parameters\n",
    "min_model_order = 3\n",
    "max_model_order = 30"
   ]
  },
  {
   "cell_type": "code",
   "execution_count": null,
   "metadata": {},
   "outputs": [],
   "source": [
    "# Definir las entradas de frecuencia y amplitud para cada dirección\n",
    "frequency_inputs = {\n",
    "    'X': [10, lambda t: 35 + 0.05 * np.sin(2 * np.pi + 0.1 * t)],\n",
    "    'Y': [15, lambda t: 30 + 0.05 * np.sin(2 * np.pi + 0.2 * t)],\n",
    "    'Z': [20, lambda t: 25 + 0.05 * np.sin(2 * np.pi +  0.3 * t)]\n",
    "}\n",
    "\n",
    "amplitude_inputs = {\n",
    "    'X': [1, lambda t: 1 + 0.5 * np.sin(2 * np.pi - 0.1 * t)],\n",
    "    'Y': [0.8, lambda t: 0.8 + 0.3 * np.sin(2 * np.pi - 0.2 * t)],\n",
    "    'Z': [0.6, lambda t: 0.6 + 0.2 * np.sin(2 * np.pi - 0.3 * t)]\n",
    "}\n",
    "\n",
    "# Definir las amplitudes de ruido para cada dirección\n",
    "noise_amplitudes = {\n",
    "    'X': 0.10,\n",
    "    'Y': 0.05,\n",
    "    'Z': 0.15\n",
    "}\n",
    "\n",
    "# Definir las etiquetas de las direcciones\n",
    "labels = ['X', 'Y', 'Z']\n",
    "\n",
    "# Generar las señales de vibración\n",
    "total_time = 25  # Duración total de la señal en segundos\n",
    "sampling_rate = 100.0  # Tasa de muestreo en Hz"
   ]
  },
  {
   "cell_type": "code",
   "execution_count": null,
   "metadata": {},
   "outputs": [],
   "source": [
    "df_original = utils.generate_vibration_signals(\n",
    "    labels=labels,\n",
    "    total_time=total_time,\n",
    "    sampling_rate=sampling_rate,\n",
    "    frequency_inputs=frequency_inputs,\n",
    "    amplitude_inputs=amplitude_inputs,\n",
    "    noise_amplitudes=noise_amplitudes,\n",
    ")\n",
    "    "
   ]
  },
  {
   "cell_type": "code",
   "execution_count": null,
   "metadata": {},
   "outputs": [],
   "source": [
    "utils.plotly_acceleration(df_original, label, color='black')"
   ]
  },
  {
   "cell_type": "code",
   "execution_count": null,
   "metadata": {},
   "outputs": [],
   "source": [
    "df_ready = utils.SignalProcessor(df_original, labels, lowcut, highcut, order, start_time, power_of_two).execute_preparing_signal()"
   ]
  },
  {
   "cell_type": "code",
   "execution_count": null,
   "metadata": {
    "scrolled": true
   },
   "outputs": [],
   "source": [
    "n = utils.estimate_power_of_two(df_original) # maximun exponent for the number of samples recomended for the fft\n",
    "print(f'n = {n}')"
   ]
  },
  {
   "cell_type": "code",
   "execution_count": null,
   "metadata": {},
   "outputs": [],
   "source": [
    "utils.plotly_acceleration(df_ready, labels[0], color='black') # 0 for 'X', 1 for 'Y', 2 for 'Z'"
   ]
  },
  {
   "cell_type": "markdown",
   "metadata": {},
   "source": [
    "## FFT analysis"
   ]
  },
  {
   "cell_type": "code",
   "execution_count": null,
   "metadata": {},
   "outputs": [],
   "source": [
    "df_fft = fourier.calculate_fft(df_ready, labels)"
   ]
  },
  {
   "cell_type": "code",
   "execution_count": null,
   "metadata": {},
   "outputs": [],
   "source": [
    "fourier.plotly_fft_results(df_fft, label, 'black')"
   ]
  },
  {
   "cell_type": "markdown",
   "metadata": {},
   "source": [
    "## Denoising"
   ]
  },
  {
   "cell_type": "code",
   "execution_count": null,
   "metadata": {},
   "outputs": [],
   "source": [
    "df_filtered = fourier.filter_with_fft(df=df_ready, labels=labels, threshold=threshold)"
   ]
  },
  {
   "cell_type": "code",
   "execution_count": null,
   "metadata": {},
   "outputs": [],
   "source": [
    "df_fft_filtered = fourier.calculate_fft(df_filtered, labels_filtered, magnitude_type, magnitude_factor)"
   ]
  },
  {
   "cell_type": "code",
   "execution_count": null,
   "metadata": {},
   "outputs": [],
   "source": [
    "fourier.plotly_fft_results(df_fft_filtered, label_filtered, 'black')"
   ]
  },
  {
   "cell_type": "code",
   "execution_count": null,
   "metadata": {},
   "outputs": [],
   "source": [
    "fourier.plotly_normalized_fft_results(df_fft_filtered, label_filtered,'black')"
   ]
  },
  {
   "cell_type": "code",
   "execution_count": null,
   "metadata": {},
   "outputs": [],
   "source": [
    "utils.plotly_acceleration(df_ready, label)"
   ]
  },
  {
   "cell_type": "code",
   "execution_count": null,
   "metadata": {},
   "outputs": [],
   "source": [
    "fourier.plotly_peaks(df_fft_filtered, label_filtered, log_scale=True)"
   ]
  },
  {
   "cell_type": "code",
   "execution_count": null,
   "metadata": {},
   "outputs": [],
   "source": [
    "fourier.plotly_fft_results_period_domain(df_fft_filtered, label_filtered, color='blue', log_scale=True)"
   ]
  },
  {
   "cell_type": "markdown",
   "metadata": {},
   "source": [
    "## SSICOV"
   ]
  },
  {
   "cell_type": "code",
   "execution_count": null,
   "metadata": {},
   "outputs": [],
   "source": [
    "ssicov = ssi_cov.SSICov(df_filtered, labels, min_model_order, max_model_order)"
   ]
  },
  {
   "cell_type": "code",
   "execution_count": null,
   "metadata": {},
   "outputs": [],
   "source": [
    "ssicov.plotly_stability_diagram()"
   ]
  },
  {
   "cell_type": "markdown",
   "metadata": {},
   "source": [
    "## Wavelets"
   ]
  },
  {
   "cell_type": "code",
   "execution_count": null,
   "metadata": {},
   "outputs": [],
   "source": [
    "spectrum, frequencies = wavelet.calculate_cwt(df_filtered, label_filtered, wavelet_function, lowcut, highcut)"
   ]
  },
  {
   "cell_type": "code",
   "execution_count": null,
   "metadata": {},
   "outputs": [],
   "source": [
    "wavelet.plot_spectrum_views(df_ready, spectrum, frequencies, label_filtered)"
   ]
  },
  {
   "cell_type": "code",
   "execution_count": null,
   "metadata": {},
   "outputs": [],
   "source": []
  }
 ],
 "metadata": {
  "kernelspec": {
   "display_name": "Python 3 (epy)",
   "language": "python",
   "name": "epy"
  },
  "language_info": {
   "codemirror_mode": {
    "name": "ipython",
    "version": 3
   },
   "file_extension": ".py",
   "mimetype": "text/x-python",
   "name": "python",
   "nbconvert_exporter": "python",
   "pygments_lexer": "ipython3",
   "version": "3.12.8"
  }
 },
 "nbformat": 4,
 "nbformat_minor": 4
}
